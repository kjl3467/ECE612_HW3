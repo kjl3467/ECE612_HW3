{
 "cells": [
  {
   "cell_type": "code",
   "execution_count": 15,
   "metadata": {},
   "outputs": [],
   "source": [
    "import pandas as pd\n",
    "import sys\n",
    "import os\n",
    "import configparser\n",
    "import requests\n",
    "import json"
   ]
  },
  {
   "cell_type": "code",
   "execution_count": 16,
   "metadata": {},
   "outputs": [],
   "source": [
    "repo = os.path.abspath(os.pardir)"
   ]
  },
  {
   "cell_type": "code",
   "execution_count": 17,
   "metadata": {},
   "outputs": [],
   "source": [
    "sys.path.append(repo)"
   ]
  },
  {
   "cell_type": "code",
   "execution_count": 18,
   "metadata": {},
   "outputs": [],
   "source": [
    "config = configparser.ConfigParser()"
   ]
  },
  {
   "cell_type": "code",
   "execution_count": 19,
   "metadata": {},
   "outputs": [
    {
     "data": {
      "text/plain": [
       "['c:\\\\Users\\\\kiera\\\\OneDrive\\\\Documents\\\\School\\\\Summer 24\\\\ECE 612\\\\ECE612_HW3\\\\config.ini']"
      ]
     },
     "execution_count": 19,
     "metadata": {},
     "output_type": "execute_result"
    }
   ],
   "source": [
    "config.read(os.path.join(repo,'config.ini'))"
   ]
  },
  {
   "cell_type": "code",
   "execution_count": 20,
   "metadata": {},
   "outputs": [],
   "source": [
    "cx = config.get('Custom Search','cx')\n",
    "key = config.get('Custom Search','API_key')"
   ]
  },
  {
   "cell_type": "code",
   "execution_count": 21,
   "metadata": {},
   "outputs": [],
   "source": [
    "req = requests.get(f\"https://www.googleapis.com/customsearch/v1?key={key}&cx={cx}&imgType=stock&q=bird in birdfeeder picture\",)\n",
    "decoded_req = json.loads(req.content.decode())"
   ]
  },
  {
   "cell_type": "code",
   "execution_count": 90,
   "metadata": {},
   "outputs": [
    {
     "data": {
      "text/plain": [
       "dict_keys(['kind', 'url', 'queries', 'context', 'searchInformation', 'spelling', 'items'])"
      ]
     },
     "execution_count": 90,
     "metadata": {},
     "output_type": "execute_result"
    }
   ],
   "source": [
    "decoded_req.keys()"
   ]
  },
  {
   "cell_type": "code",
   "execution_count": 100,
   "metadata": {},
   "outputs": [
    {
     "data": {
      "text/plain": [
       "{'kind': 'customsearch#result',\n",
       " 'title': '30,000+ Bird Feeder Pictures | Download Free Images on Unsplash',\n",
       " 'htmlTitle': '30,000+ <b>Bird Feeder Pictures</b> | Download Free Images on Unsplash',\n",
       " 'link': 'https://unsplash.com/s/photos/bird-feeder',\n",
       " 'displayLink': 'unsplash.com',\n",
       " 'snippet': 'Download the perfect bird feeder pictures. Find over 100+ of the best free bird feeder images. Free for commercial use ✓ No attribution required\\xa0...',\n",
       " 'htmlSnippet': 'Download the perfect <b>bird feeder pictures</b>. Find over 100+ of the best free <b>bird feeder images</b>. Free for commercial use ✓ No attribution required&nbsp;...',\n",
       " 'formattedUrl': 'https://unsplash.com/s/photos/bird-feeder',\n",
       " 'htmlFormattedUrl': 'https://unsplash.com/s/photos/<b>bird</b>-feeder',\n",
       " 'pagemap': {'cse_thumbnail': [{'src': 'https://encrypted-tbn0.gstatic.com/images?q=tbn:ANd9GcSW2qfDhRyc8CchKzxLRNoHcfOAxfGdi2lSOZBjzpaaIdmWTmRgtM8QDaE&s',\n",
       "    'width': '310',\n",
       "    'height': '163'}],\n",
       "  'imageobject': [{'contenturl': 'https://unsplash.com/photos/a-wooden-bird-feeder-with-seeds-handging-from-tree-in-winter-garden-xSfyB4_lGLc',\n",
       "    'thumbnailurl': 'https://plus.unsplash.com/premium_photo-1663099743618-0eef4cf56fcc?fm=jpg&q=60&w=3000&ixlib=rb-4.0.3&ixid=M3wxMjA3fDB8MHxzZWFyY2h8MXx8YmlyZCUyMGZlZWRlcnxlbnwwfHwwfHx8MA%3D%3D'},\n",
       "   {'contenturl': 'https://unsplash.com/photos/gray-passerine-bird-perching-on-gray-metal-birdfeeder-selective-focus-photography-rT-I7IB_eHg',\n",
       "    'thumbnailurl': 'https://images.unsplash.com/photo-1542749420-30441d9e8315?fm=jpg&q=60&w=3000&ixlib=rb-4.0.3&ixid=M3wxMjA3fDB8MHxzZWFyY2h8Mnx8YmlyZCUyMGZlZWRlcnxlbnwwfHwwfHx8MA%3D%3D'},\n",
       "   {'contenturl': 'https://unsplash.com/photos/yellow-and-black-bird-on-brown-and-white-bird-feeder-YXJG6duQfwY',\n",
       "    'thumbnailurl': 'https://images.unsplash.com/photo-1598280860721-14d1fd80a8af?fm=jpg&q=60&w=3000&ixlib=rb-4.0.3&ixid=M3wxMjA3fDB8MHxzZWFyY2h8M3x8YmlyZCUyMGZlZWRlcnxlbnwwfHwwfHx8MA%3D%3D'},\n",
       "   {'contenturl': 'https://unsplash.com/photos/black-steel-hanging-lantern-OeDdMZ1PbKU',\n",
       "    'thumbnailurl': 'https://images.unsplash.com/photo-1524675784525-96b2219b588a?fm=jpg&q=60&w=3000&ixlib=rb-4.0.3&ixid=M3wxMjA3fDB8MHxzZWFyY2h8NHx8YmlyZCUyMGZlZWRlcnxlbnwwfHwwfHx8MA%3D%3D'},\n",
       "   {'contenturl': 'https://unsplash.com/photos/a-bird-house-with-a-green-roof-and-two-blue-eggs-K2A-KuRdt5A',\n",
       "    'thumbnailurl': 'https://plus.unsplash.com/premium_photo-1677619374089-704249466c93?fm=jpg&q=60&w=3000&ixlib=rb-4.0.3&ixid=M3wxMjA3fDB8MHxzZWFyY2h8NXx8YmlyZCUyMGZlZWRlcnxlbnwwfHwwfHx8MA%3D%3D'},\n",
       "   {'contenturl': 'https://unsplash.com/photos/green-hummingbird-drinking-water-g4y0yT-g57I',\n",
       "    'thumbnailurl': 'https://images.unsplash.com/photo-1531951704052-13df94f55f1d?fm=jpg&q=60&w=3000&ixlib=rb-4.0.3&ixid=M3wxMjA3fDB8MHxzZWFyY2h8Nnx8YmlyZCUyMGZlZWRlcnxlbnwwfHwwfHx8MA%3D%3D'},\n",
       "   {'contenturl': 'https://unsplash.com/photos/brown-and-white-bird-on-red-bird-house-xq6i2eMWgTY',\n",
       "    'thumbnailurl': 'https://images.unsplash.com/photo-1590238752072-9f2749ff669c?fm=jpg&q=60&w=3000&ixlib=rb-4.0.3&ixid=M3wxMjA3fDB8MHxzZWFyY2h8N3x8YmlyZCUyMGZlZWRlcnxlbnwwfHwwfHx8MA%3D%3D'},\n",
       "   {'contenturl': 'https://unsplash.com/photos/brown-bird-on-red-bird-house-v89rqjhE-LA',\n",
       "    'thumbnailurl': 'https://images.unsplash.com/photo-1590183278789-e40ef0de360f?fm=jpg&q=60&w=3000&ixlib=rb-4.0.3&ixid=M3wxMjA3fDB8MHxzZWFyY2h8OHx8YmlyZCUyMGZlZWRlcnxlbnwwfHwwfHx8MA%3D%3D'},\n",
       "   {'contenturl': 'https://unsplash.com/photos/a-bird-feeder-hanging-from-a-pole-in-the-snow-q_BUpGlAvmw',\n",
       "    'thumbnailurl': 'https://plus.unsplash.com/premium_photo-1673365183744-7ba696069778?fm=jpg&q=60&w=3000&ixlib=rb-4.0.3&ixid=M3wxMjA3fDB8MHxzZWFyY2h8OXx8YmlyZCUyMGZlZWRlcnxlbnwwfHwwfHx8MA%3D%3D'},\n",
       "   {'contenturl': 'https://unsplash.com/photos/brown-bird-on-red-metal-frame-fZgsVGNmGiw',\n",
       "    'thumbnailurl': 'https://images.unsplash.com/photo-1591198936488-a90fb6ac0a7c?fm=jpg&q=60&w=3000&ixlib=rb-4.0.3&ixid=M3wxMjA3fDB8MHxzZWFyY2h8MTB8fGJpcmQlMjBmZWVkZXJ8ZW58MHx8MHx8fDA%3D'},\n",
       "   {'contenturl': 'https://unsplash.com/photos/red-and-brown-bird-on-red-wooden-bird-house-jNp3e1wE_iU',\n",
       "    'thumbnailurl': 'https://images.unsplash.com/photo-1590238752684-a3a596847a61?fm=jpg&q=60&w=3000&ixlib=rb-4.0.3&ixid=M3wxMjA3fDB8MHxzZWFyY2h8MTF8fGJpcmQlMjBmZWVkZXJ8ZW58MHx8MHx8fDA%3D'},\n",
       "   {'contenturl': 'https://unsplash.com/photos/white-and-black-bird-on-brown-wooden-bird-house-F51HmfRhLdc',\n",
       "    'thumbnailurl': 'https://images.unsplash.com/photo-1582821798669-6d5887b6936e?fm=jpg&q=60&w=3000&ixlib=rb-4.0.3&ixid=M3wxMjA3fDB8MHxzZWFyY2h8MTJ8fGJpcmQlMjBmZWVkZXJ8ZW58MHx8MHx8fDA%3D'},\n",
       "   {'contenturl': 'https://unsplash.com/photos/top-view-of-happy-small-boy-with-senior-grandfather-in-wheelchair-constructing-birdhouse-diy-project-a_MzWbwF5Os',\n",
       "    'thumbnailurl': 'https://plus.unsplash.com/premium_photo-1681966718484-68d59393c453?fm=jpg&q=60&w=3000&ixlib=rb-4.0.3&ixid=M3wxMjA3fDB8MHxzZWFyY2h8MTN8fGJpcmQlMjBmZWVkZXJ8ZW58MHx8MHx8fDA%3D'},\n",
       "   {'contenturl': 'https://unsplash.com/photos/brown-bird-on-brown-wooden-bird-house-M8KHoee2_3E',\n",
       "    'thumbnailurl': 'https://images.unsplash.com/photo-1590238188694-f0e028860466?fm=jpg&q=60&w=3000&ixlib=rb-4.0.3&ixid=M3wxMjA3fDB8MHxzZWFyY2h8MTR8fGJpcmQlMjBmZWVkZXJ8ZW58MHx8MHx8fDA%3D'},\n",
       "   {'contenturl': 'https://unsplash.com/photos/brown-bird-on-red-cage-vwZjsIFnT5c',\n",
       "    'thumbnailurl': 'https://images.unsplash.com/photo-1590183281042-1d43c163c3e6?fm=jpg&q=60&w=3000&ixlib=rb-4.0.3&ixid=M3wxMjA3fDB8MHxzZWFyY2h8MTV8fGJpcmQlMjBmZWVkZXJ8ZW58MHx8MHx8fDA%3D'},\n",
       "   {'contenturl': 'https://unsplash.com/photos/black-bird-on-gray-bird-feeder-4-2bb74hp2s',\n",
       "    'thumbnailurl': 'https://images.unsplash.com/photo-1591189425065-c15ece15878b?fm=jpg&q=60&w=3000&ixlib=rb-4.0.3&ixid=M3wxMjA3fDB8MHxzZWFyY2h8MTZ8fGJpcmQlMjBmZWVkZXJ8ZW58MHx8MHx8fDA%3D'},\n",
       "   {'contenturl': 'https://unsplash.com/photos/a-group-of-young-girls-sitting-around-a-table-Kzh4Ih4iapc',\n",
       "    'thumbnailurl': 'https://plus.unsplash.com/premium_photo-1686836995013-be7115bf463d?fm=jpg&q=60&w=3000&ixlib=rb-4.0.3&ixid=M3wxMjA3fDB8MHxzZWFyY2h8MTd8fGJpcmQlMjBmZWVkZXJ8ZW58MHx8MHx8fDA%3D'},\n",
       "   {'contenturl': 'https://unsplash.com/photos/a-bird-that-is-sitting-on-a-bird-feeder-k8UtMfrh6UU',\n",
       "    'thumbnailurl': 'https://images.unsplash.com/photo-1719998609503-3eefd67820ac?fm=jpg&q=60&w=3000&ixlib=rb-4.0.3&ixid=M3wxMjA3fDB8MHxzZWFyY2h8MTh8fGJpcmQlMjBmZWVkZXJ8ZW58MHx8MHx8fDA%3D'},\n",
       "   {'contenturl': 'https://unsplash.com/photos/a-bird-is-perched-on-a-bird-feeder-I3kawHkel-A',\n",
       "    'thumbnailurl': 'https://images.unsplash.com/photo-1718012934624-07822822df8c?fm=jpg&q=60&w=3000&ixlib=rb-4.0.3&ixid=M3wxMjA3fDB8MHxzZWFyY2h8MTl8fGJpcmQlMjBmZWVkZXJ8ZW58MHx8MHx8fDA%3D'},\n",
       "   {'contenturl': 'https://unsplash.com/photos/red-bird-on-brown-wooden-table-wvoMh2alZ0w',\n",
       "    'thumbnailurl': 'https://images.unsplash.com/photo-1590238187558-593e6f757b88?fm=jpg&q=60&w=3000&ixlib=rb-4.0.3&ixid=M3wxMjA3fDB8MHxzZWFyY2h8MjB8fGJpcmQlMjBmZWVkZXJ8ZW58MHx8MHx8fDA%3D'}],\n",
       "  'metatags': [{'application-name': 'Unsplash',\n",
       "    'msapplication-tilecolor': '#ffffff',\n",
       "    'charset': 'UTF8',\n",
       "    'msapplication-config': 'browserconfig.xml',\n",
       "    'og:image': 'https://images.unsplash.com/opengraph/1x1.png?mark=https%3A%2F%2Fimages.unsplash.com%2Fopengraph%2Flogo.png&mark-w=64&mark-align=top%2Cleft&mark-pad=50&h=630&w=1200&blend=https%3A%2F%2Fimages.unsplash.com%2Fphoto-1542749420-30441d9e8315%3Fcrop%3Dfaces%252Cedges%26h%3D630%26w%3D1200%26blend%3D000000%26blend-mode%3Dnormal%26blend-alpha%3D10%26mark-w%3D750%26mark-align%3Dmiddle%252Ccenter%26mark%3Dhttps%253A%252F%252Fimages.unsplash.com%252Fopengraph%252Fsearch-input.png%253Fw%253D750%2526h%253D84%2526txt%253Dbird%252Bfeeder%2526txt-pad%253D80%2526txt-align%253Dmiddle%25252Cleft%2526txt-color%253D%252523000000%2526txt-size%253D40%2526txt-width%253D660%2526txt-clip%253Dellipsis%2526auto%253Dformat%2526fit%253Dcrop%2526q%253D60%26auto%3Dformat%26fit%3Dcrop%26q%3D60%26ixid%3DM3wxMjA3fDB8MXxzZWFyY2h8Mnx8YmlyZCUyMGZlZWRlcnxlbnwwfHx8fDE3MjMwNTk1NTB8MA%26ixlib%3Drb-4.0.3&blend-w=1&auto=format&fit=crop&q=60',\n",
       "    'apple-itunes-app': 'app-id=1290631746',\n",
       "    'theme-color': '#ffffff',\n",
       "    'twitter:title': '30,000+ Bird Feeder Pictures | Download Free Images on Unsplash',\n",
       "    'twitter:card': 'summary_large_image',\n",
       "    'og:type': 'website',\n",
       "    'twitter:url': 'https://unsplash.com/s/photos/bird-feeder',\n",
       "    'author': 'Unsplash',\n",
       "    'apple-mobile-web-app-title': 'Unsplash',\n",
       "    'og:title': '30,000+ Bird Feeder Pictures | Download Free Images on Unsplash',\n",
       "    'msapplication-tileimage': 'https://unsplash.com/mstile-144x144.png',\n",
       "    'og:description': 'Download the perfect bird feeder pictures. Find over 100+ of the best free bird feeder images. Free for commercial use ✓ No attribution required ✓ Copyright-free ✓',\n",
       "    'twitter:image': 'https://images.unsplash.com/opengraph/1x1.png?mark=https%3A%2F%2Fimages.unsplash.com%2Fopengraph%2Flogo.png&mark-w=64&mark-align=top%2Cleft&mark-pad=50&h=630&w=1200&blend=https%3A%2F%2Fimages.unsplash.com%2Fphoto-1542749420-30441d9e8315%3Fcrop%3Dfaces%252Cedges%26h%3D630%26w%3D1200%26blend%3D000000%26blend-mode%3Dnormal%26blend-alpha%3D10%26mark-w%3D750%26mark-align%3Dmiddle%252Ccenter%26mark%3Dhttps%253A%252F%252Fimages.unsplash.com%252Fopengraph%252Fsearch-input.png%253Fw%253D750%2526h%253D84%2526txt%253Dbird%252Bfeeder%2526txt-pad%253D80%2526txt-align%253Dmiddle%25252Cleft%2526txt-color%253D%252523000000%2526txt-size%253D40%2526txt-width%253D660%2526txt-clip%253Dellipsis%2526auto%253Dformat%2526fit%253Dcrop%2526q%253D60%26auto%3Dformat%26fit%3Dcrop%26q%3D60%26ixid%3DM3wxMjA3fDB8MXxzZWFyY2h8Mnx8YmlyZCUyMGZlZWRlcnxlbnwwfHx8fDE3MjMwNTk1NTB8MA%26ixlib%3Drb-4.0.3&blend-w=1&auto=format&fit=crop&q=60',\n",
       "    'twitter:site': '@unsplash',\n",
       "    'viewport': 'width=device-width, initial-scale=1.0, minimal-ui',\n",
       "    'apple-mobile-web-app-capable': 'yes',\n",
       "    'twitter:description': 'Download the perfect bird feeder pictures. Find over 100+ of the best free bird feeder images. Free for commercial use ✓ No attribution required ✓ Copyright-free ✓',\n",
       "    'mobile-web-app-capable': 'yes',\n",
       "    'og:url': 'https://unsplash.com/s/photos/bird-feeder'}],\n",
       "  'cse_image': [{'src': 'https://images.unsplash.com/opengraph/1x1.png?mark=https%3A%2F%2Fimages.unsplash.com%2Fopengraph%2Flogo.png&mark-w=64&mark-align=top%2Cleft&mark-pad=50&h=630&w=1200&blend=https%3A%2F%2Fimages.unsplash.com%2Fphoto-1542749420-30441d9e8315%3Fcrop%3Dfaces%252Cedges%26h%3D630%26w%3D1200%26blend%3D000000%26blend-mode%3Dnormal%26blend-alpha%3D10%26mark-w%3D750%26mark-align%3Dmiddle%252Ccenter%26mark%3Dhttps%253A%252F%252Fimages.unsplash.com%252Fopengraph%252Fsearch-input.png%253Fw%253D750%2526h%253D84%2526txt%253Dbird%252Bfeeder%2526txt-pad%253D80%2526txt-align%253Dmiddle%25252Cleft%2526txt-color%253D%252523000000%2526txt-size%253D40%2526txt-width%253D660%2526txt-clip%253Dellipsis%2526auto%253Dformat%2526fit%253Dcrop%2526q%253D60%26auto%3Dformat%26fit%3Dcrop%26q%3D60%26ixid%3DM3wxMjA3fDB8MXxzZWFyY2h8Mnx8YmlyZCUyMGZlZWRlcnxlbnwwfHx8fDE3MjMwNTk1NTB8MA%26ixlib%3Drb-4.0.3&blend-w=1&auto=format&fit=crop&q=60'}]}}"
      ]
     },
     "execution_count": 100,
     "metadata": {},
     "output_type": "execute_result"
    }
   ],
   "source": []
  },
  {
   "cell_type": "code",
   "execution_count": 61,
   "metadata": {},
   "outputs": [
    {
     "data": {
      "text/plain": [
       "'https://media.gettyimages.com/id/155599045/photo/busy-bird-feeder.jpg?s=612x612&w=gi&k=20&c=A9blS6HKNt0MlVB7Af1TNTAXWE4zSv3FZ9n2Phco0cE='"
      ]
     },
     "execution_count": 61,
     "metadata": {},
     "output_type": "execute_result"
    }
   ],
   "source": []
  },
  {
   "cell_type": "code",
   "execution_count": 63,
   "metadata": {},
   "outputs": [],
   "source": [
    "import shutil\n",
    "\n",
    "def save_image_from_url(url, file_path):\n",
    "    response = requests.get(url, stream=True)\n",
    "    if response.status_code == 200:\n",
    "        with open(file_path, 'wb') as out_file:\n",
    "            shutil.copyfileobj(response.raw, out_file)\n",
    "        print(f\"Image saved to {file_path}\")\n",
    "    else:\n",
    "        print(f\"Failed to retrieve image from {url}\")\n",
    "    del response"
   ]
  },
  {
   "cell_type": "code",
   "execution_count": 65,
   "metadata": {},
   "outputs": [
    {
     "name": "stdout",
     "output_type": "stream",
     "text": [
      "Image saved to c:\\Users\\kiera\\OneDrive\\Documents\\School\\Summer 24\\ECE 612\\ECE612_HW3\\data/raw/birder_training_images/sample_image_1.jpg\n"
     ]
    }
   ],
   "source": [
    "save_image_from_url(decoded_req['items'][4]['pagemap']['imageobject'][0]['thumbnailurl'],os.path.join(repo,'data/raw/birder_training_images/sample_image_1.jpg'))"
   ]
  },
  {
   "cell_type": "code",
   "execution_count": 101,
   "metadata": {},
   "outputs": [
    {
     "name": "stdout",
     "output_type": "stream",
     "text": [
      "Image saved to c:\\Users\\kiera\\OneDrive\\Documents\\School\\Summer 24\\ECE 612\\ECE612_HW3\\data/raw/birder_training_images/sample_image_50.jpg\n",
      "Image saved to c:\\Users\\kiera\\OneDrive\\Documents\\School\\Summer 24\\ECE 612\\ECE612_HW3\\data/raw/birder_training_images/sample_image_51.jpg\n",
      "Image saved to c:\\Users\\kiera\\OneDrive\\Documents\\School\\Summer 24\\ECE 612\\ECE612_HW3\\data/raw/birder_training_images/sample_image_52.jpg\n",
      "Image saved to c:\\Users\\kiera\\OneDrive\\Documents\\School\\Summer 24\\ECE 612\\ECE612_HW3\\data/raw/birder_training_images/sample_image_53.jpg\n",
      "Image saved to c:\\Users\\kiera\\OneDrive\\Documents\\School\\Summer 24\\ECE 612\\ECE612_HW3\\data/raw/birder_training_images/sample_image_54.jpg\n",
      "Image saved to c:\\Users\\kiera\\OneDrive\\Documents\\School\\Summer 24\\ECE 612\\ECE612_HW3\\data/raw/birder_training_images/sample_image_55.jpg\n",
      "Image saved to c:\\Users\\kiera\\OneDrive\\Documents\\School\\Summer 24\\ECE 612\\ECE612_HW3\\data/raw/birder_training_images/sample_image_56.jpg\n",
      "Image saved to c:\\Users\\kiera\\OneDrive\\Documents\\School\\Summer 24\\ECE 612\\ECE612_HW3\\data/raw/birder_training_images/sample_image_57.jpg\n",
      "Image saved to c:\\Users\\kiera\\OneDrive\\Documents\\School\\Summer 24\\ECE 612\\ECE612_HW3\\data/raw/birder_training_images/sample_image_58.jpg\n",
      "Image saved to c:\\Users\\kiera\\OneDrive\\Documents\\School\\Summer 24\\ECE 612\\ECE612_HW3\\data/raw/birder_training_images/sample_image_59.jpg\n",
      "Image saved to c:\\Users\\kiera\\OneDrive\\Documents\\School\\Summer 24\\ECE 612\\ECE612_HW3\\data/raw/birder_training_images/sample_image_60.jpg\n",
      "Image saved to c:\\Users\\kiera\\OneDrive\\Documents\\School\\Summer 24\\ECE 612\\ECE612_HW3\\data/raw/birder_training_images/sample_image_61.jpg\n",
      "Image saved to c:\\Users\\kiera\\OneDrive\\Documents\\School\\Summer 24\\ECE 612\\ECE612_HW3\\data/raw/birder_training_images/sample_image_62.jpg\n",
      "Image saved to c:\\Users\\kiera\\OneDrive\\Documents\\School\\Summer 24\\ECE 612\\ECE612_HW3\\data/raw/birder_training_images/sample_image_63.jpg\n",
      "Image saved to c:\\Users\\kiera\\OneDrive\\Documents\\School\\Summer 24\\ECE 612\\ECE612_HW3\\data/raw/birder_training_images/sample_image_64.jpg\n",
      "Image saved to c:\\Users\\kiera\\OneDrive\\Documents\\School\\Summer 24\\ECE 612\\ECE612_HW3\\data/raw/birder_training_images/sample_image_65.jpg\n",
      "Image saved to c:\\Users\\kiera\\OneDrive\\Documents\\School\\Summer 24\\ECE 612\\ECE612_HW3\\data/raw/birder_training_images/sample_image_66.jpg\n",
      "Image saved to c:\\Users\\kiera\\OneDrive\\Documents\\School\\Summer 24\\ECE 612\\ECE612_HW3\\data/raw/birder_training_images/sample_image_67.jpg\n",
      "Image saved to c:\\Users\\kiera\\OneDrive\\Documents\\School\\Summer 24\\ECE 612\\ECE612_HW3\\data/raw/birder_training_images/sample_image_68.jpg\n",
      "Image saved to c:\\Users\\kiera\\OneDrive\\Documents\\School\\Summer 24\\ECE 612\\ECE612_HW3\\data/raw/birder_training_images/sample_image_69.jpg\n"
     ]
    }
   ],
   "source": [
    "for ind in range(len(decoded_req['items'][9]['pagemap']['imageobject'])):\n",
    "    save_image_from_url(decoded_req['items'][9]['pagemap']['imageobject'][ind]['thumbnailurl'],os.path.join(repo,f'data/raw/birder_training_images/sample_image_{ind+50}.jpg'))"
   ]
  },
  {
   "cell_type": "code",
   "execution_count": 108,
   "metadata": {},
   "outputs": [],
   "source": []
  },
  {
   "cell_type": "code",
   "execution_count": 22,
   "metadata": {},
   "outputs": [],
   "source": [
    "data_path=os.path.join(repo,'data','raw','birder_training_images')"
   ]
  },
  {
   "cell_type": "code",
   "execution_count": null,
   "metadata": {},
   "outputs": [],
   "source": []
  },
  {
   "cell_type": "code",
   "execution_count": 23,
   "metadata": {},
   "outputs": [],
   "source": [
    "from matplotlib.image import imread\n",
    "import tensorflow as tf"
   ]
  },
  {
   "cell_type": "code",
   "execution_count": 24,
   "metadata": {},
   "outputs": [],
   "source": []
  },
  {
   "cell_type": "code",
   "execution_count": 25,
   "metadata": {},
   "outputs": [],
   "source": [
    "import pandas as pd\n",
    "labels = pd.read_csv(r'C:\\Users\\kiera\\OneDrive\\Documents\\School\\Summer 24\\ECE 612\\ECE612_HW3\\data\\raw\\birder_training_images\\labels.csv')\n",
    "labels.set_index('img_index',inplace=True)"
   ]
  },
  {
   "cell_type": "code",
   "execution_count": 26,
   "metadata": {},
   "outputs": [
    {
     "data": {
      "text/html": [
       "<div>\n",
       "<style scoped>\n",
       "    .dataframe tbody tr th:only-of-type {\n",
       "        vertical-align: middle;\n",
       "    }\n",
       "\n",
       "    .dataframe tbody tr th {\n",
       "        vertical-align: top;\n",
       "    }\n",
       "\n",
       "    .dataframe thead th {\n",
       "        text-align: right;\n",
       "    }\n",
       "</style>\n",
       "<table border=\"1\" class=\"dataframe\">\n",
       "  <thead>\n",
       "    <tr style=\"text-align: right;\">\n",
       "      <th></th>\n",
       "      <th>label</th>\n",
       "    </tr>\n",
       "    <tr>\n",
       "      <th>img_index</th>\n",
       "      <th></th>\n",
       "    </tr>\n",
       "  </thead>\n",
       "  <tbody>\n",
       "    <tr>\n",
       "      <th>0</th>\n",
       "      <td>1</td>\n",
       "    </tr>\n",
       "    <tr>\n",
       "      <th>1</th>\n",
       "      <td>1</td>\n",
       "    </tr>\n",
       "    <tr>\n",
       "      <th>2</th>\n",
       "      <td>0</td>\n",
       "    </tr>\n",
       "    <tr>\n",
       "      <th>3</th>\n",
       "      <td>1</td>\n",
       "    </tr>\n",
       "    <tr>\n",
       "      <th>4</th>\n",
       "      <td>1</td>\n",
       "    </tr>\n",
       "    <tr>\n",
       "      <th>...</th>\n",
       "      <td>...</td>\n",
       "    </tr>\n",
       "    <tr>\n",
       "      <th>65</th>\n",
       "      <td>1</td>\n",
       "    </tr>\n",
       "    <tr>\n",
       "      <th>66</th>\n",
       "      <td>0</td>\n",
       "    </tr>\n",
       "    <tr>\n",
       "      <th>67</th>\n",
       "      <td>1</td>\n",
       "    </tr>\n",
       "    <tr>\n",
       "      <th>68</th>\n",
       "      <td>1</td>\n",
       "    </tr>\n",
       "    <tr>\n",
       "      <th>69</th>\n",
       "      <td>1</td>\n",
       "    </tr>\n",
       "  </tbody>\n",
       "</table>\n",
       "<p>70 rows × 1 columns</p>\n",
       "</div>"
      ],
      "text/plain": [
       "           label\n",
       "img_index       \n",
       "0              1\n",
       "1              1\n",
       "2              0\n",
       "3              1\n",
       "4              1\n",
       "...          ...\n",
       "65             1\n",
       "66             0\n",
       "67             1\n",
       "68             1\n",
       "69             1\n",
       "\n",
       "[70 rows x 1 columns]"
      ]
     },
     "execution_count": 26,
     "metadata": {},
     "output_type": "execute_result"
    }
   ],
   "source": [
    "labels"
   ]
  },
  {
   "cell_type": "code",
   "execution_count": 37,
   "metadata": {},
   "outputs": [],
   "source": [
    "images=[]\n",
    "label=[]\n",
    "import os\n",
    "for index in labels.index:\n",
    "    images.append(imread(os.path.join(data_path,f'sample_image_{index}.jpg')))\n",
    "    label.append(labels.iloc[index,0])"
   ]
  },
  {
   "cell_type": "code",
   "execution_count": 38,
   "metadata": {},
   "outputs": [
    {
     "data": {
      "text/plain": [
       "1"
      ]
     },
     "execution_count": 38,
     "metadata": {},
     "output_type": "execute_result"
    }
   ],
   "source": [
    "labels.iloc[0,0]"
   ]
  },
  {
   "cell_type": "code",
   "execution_count": 41,
   "metadata": {},
   "outputs": [],
   "source": [
    "feature_description={'image':tf.io.FixedLenFeature([],tf.string),\n",
    "'birdType':tf.io.FixedLenFeature([],tf.int64)}\n",
    "from tensorflow.train import Feature, Features, Example, BytesList, Int64List\n",
    "with tf.io.TFRecordWriter(r'C:\\Users\\kiera\\OneDrive\\Documents\\School\\Summer 24\\ECE 612\\ECE612_HW3\\data\\processed\\birder_training_images\\birder_dataset.tfrecords') as writer:\n",
    "    for indiv_image,indiv_label in zip(images,label):\n",
    "        encoded_image = tf.io.encode_jpeg(indiv_image).numpy()\n",
    "        feature_dict = {\n",
    "            \"image\": Feature(bytes_list=BytesList(value=[encoded_image])),\n",
    "            \"feederandbird\": Feature(int64_list=Int64List(value=[indiv_label]))\n",
    "        }\n",
    "        example = Example(features=Features(feature=feature_dict))\n",
    "        writer.write(example.SerializeToString())"
   ]
  },
  {
   "cell_type": "code",
   "execution_count": 32,
   "metadata": {},
   "outputs": [
    {
     "data": {
      "text/plain": [
       "[label    1\n",
       " Name: 0, dtype: int64,\n",
       " label    1\n",
       " Name: 1, dtype: int64,\n",
       " label    0\n",
       " Name: 2, dtype: int64,\n",
       " label    1\n",
       " Name: 3, dtype: int64,\n",
       " label    1\n",
       " Name: 4, dtype: int64,\n",
       " label    1\n",
       " Name: 5, dtype: int64,\n",
       " label    1\n",
       " Name: 6, dtype: int64,\n",
       " label    1\n",
       " Name: 7, dtype: int64,\n",
       " label    1\n",
       " Name: 8, dtype: int64,\n",
       " label    1\n",
       " Name: 9, dtype: int64,\n",
       " label    1\n",
       " Name: 10, dtype: int64,\n",
       " label    1\n",
       " Name: 11, dtype: int64,\n",
       " label    1\n",
       " Name: 12, dtype: int64,\n",
       " label    1\n",
       " Name: 13, dtype: int64,\n",
       " label    1\n",
       " Name: 14, dtype: int64,\n",
       " label    1\n",
       " Name: 15, dtype: int64,\n",
       " label    1\n",
       " Name: 16, dtype: int64,\n",
       " label    1\n",
       " Name: 17, dtype: int64,\n",
       " label    0\n",
       " Name: 18, dtype: int64,\n",
       " label    0\n",
       " Name: 19, dtype: int64,\n",
       " label    0\n",
       " Name: 20, dtype: int64,\n",
       " label    0\n",
       " Name: 21, dtype: int64,\n",
       " label    1\n",
       " Name: 22, dtype: int64,\n",
       " label    1\n",
       " Name: 23, dtype: int64,\n",
       " label    1\n",
       " Name: 24, dtype: int64,\n",
       " label    1\n",
       " Name: 25, dtype: int64,\n",
       " label    1\n",
       " Name: 26, dtype: int64,\n",
       " label    1\n",
       " Name: 27, dtype: int64,\n",
       " label    0\n",
       " Name: 28, dtype: int64,\n",
       " label    1\n",
       " Name: 29, dtype: int64,\n",
       " label    0\n",
       " Name: 30, dtype: int64,\n",
       " label    0\n",
       " Name: 31, dtype: int64,\n",
       " label    0\n",
       " Name: 32, dtype: int64,\n",
       " label    0\n",
       " Name: 33, dtype: int64,\n",
       " label    0\n",
       " Name: 34, dtype: int64,\n",
       " label    0\n",
       " Name: 35, dtype: int64,\n",
       " label    0\n",
       " Name: 36, dtype: int64,\n",
       " label    0\n",
       " Name: 37, dtype: int64,\n",
       " label    0\n",
       " Name: 38, dtype: int64,\n",
       " label    0\n",
       " Name: 39, dtype: int64,\n",
       " label    0\n",
       " Name: 40, dtype: int64,\n",
       " label    0\n",
       " Name: 41, dtype: int64,\n",
       " label    0\n",
       " Name: 42, dtype: int64,\n",
       " label    0\n",
       " Name: 43, dtype: int64,\n",
       " label    0\n",
       " Name: 44, dtype: int64,\n",
       " label    0\n",
       " Name: 45, dtype: int64,\n",
       " label    0\n",
       " Name: 46, dtype: int64,\n",
       " label    0\n",
       " Name: 47, dtype: int64,\n",
       " label    0\n",
       " Name: 48, dtype: int64,\n",
       " label    0\n",
       " Name: 49, dtype: int64,\n",
       " label    0\n",
       " Name: 50, dtype: int64,\n",
       " label    1\n",
       " Name: 51, dtype: int64,\n",
       " label    1\n",
       " Name: 52, dtype: int64,\n",
       " label    1\n",
       " Name: 53, dtype: int64,\n",
       " label    0\n",
       " Name: 54, dtype: int64,\n",
       " label    1\n",
       " Name: 55, dtype: int64,\n",
       " label    1\n",
       " Name: 56, dtype: int64,\n",
       " label    1\n",
       " Name: 57, dtype: int64,\n",
       " label    0\n",
       " Name: 58, dtype: int64,\n",
       " label    1\n",
       " Name: 59, dtype: int64,\n",
       " label    1\n",
       " Name: 60, dtype: int64,\n",
       " label    1\n",
       " Name: 61, dtype: int64,\n",
       " label    0\n",
       " Name: 62, dtype: int64,\n",
       " label    1\n",
       " Name: 63, dtype: int64,\n",
       " label    1\n",
       " Name: 64, dtype: int64,\n",
       " label    1\n",
       " Name: 65, dtype: int64,\n",
       " label    0\n",
       " Name: 66, dtype: int64,\n",
       " label    1\n",
       " Name: 67, dtype: int64,\n",
       " label    1\n",
       " Name: 68, dtype: int64,\n",
       " label    1\n",
       " Name: 69, dtype: int64]"
      ]
     },
     "execution_count": 32,
     "metadata": {},
     "output_type": "execute_result"
    }
   ],
   "source": [
    "label"
   ]
  },
  {
   "cell_type": "code",
   "execution_count": null,
   "metadata": {},
   "outputs": [],
   "source": []
  }
 ],
 "metadata": {
  "kernelspec": {
   "display_name": "base",
   "language": "python",
   "name": "python3"
  },
  "language_info": {
   "codemirror_mode": {
    "name": "ipython",
    "version": 3
   },
   "file_extension": ".py",
   "mimetype": "text/x-python",
   "name": "python",
   "nbconvert_exporter": "python",
   "pygments_lexer": "ipython3",
   "version": "3.11.5"
  }
 },
 "nbformat": 4,
 "nbformat_minor": 2
}
